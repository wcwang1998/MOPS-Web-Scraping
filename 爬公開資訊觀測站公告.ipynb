{
 "cells": [
  {
   "cell_type": "code",
   "execution_count": null,
   "metadata": {},
   "outputs": [],
   "source": [
    "import requests\n",
    "import re\n",
    "import pandas as pd\n",
    "from IPython.display import display\n",
    "\n",
    "url = 'https://mops.twse.com.tw/mops/web/t05sr01_1'\n",
    "\n",
    "header = {\n",
    "'User-Agent': 'Mozilla/5.0 (Macintosh; Intel Mac OS X 11_0_0) AppleWebKit/537.36 (KHTML, like Gecko) Chrome/87.0.4280.88 Safari/537.36'\n",
    "}\n",
    "\n",
    "res = requests.get(url=url, headers=header)\n",
    "res.encoding='utf-8'\n",
    "# print(res.text)\n",
    "\n",
    "#TODO 正则\n",
    "patt = r\"<td>(.*?)</td>.*?<td style='.*?' nowrap>(.*?)</td>.*?<td style='.*?'>(.*?)</td>.*?<td style='.*?'>(.*?)</td>.*?<td style='.*?'>(.*?)</td>\"\n",
    "res_1 = re.findall(pattern=patt, string=res.text, flags=re.S)\n",
    "\n",
    "#創建db\n",
    "db_annoucement = pd.DataFrame(columns=['公司名稱','日期','時間','標題'])\n",
    "company = []\n",
    "date = []\n",
    "time = []\n",
    "headline = []\n",
    "\n",
    "for x in res_1:\n",
    "    # print(x[1],x[2],x[3],x[4].replace(\"\\n\",\"\"),\"\\n\")\n",
    "    temp_company = x[1]\n",
    "    temp_date = x[2]\n",
    "    temp_time = x[3]\n",
    "    temp_headline = x[4].replace(\"\\r\\n\",\"\")\n",
    "\n",
    "    company.append(temp_company)\n",
    "    date.append(temp_date)\n",
    "    time.append(temp_time)\n",
    "    headline.append(temp_headline)\n",
    "\n",
    "db_annoucement['公司名稱'] = company\n",
    "db_annoucement['日期'] = date\n",
    "db_annoucement['時間'] = time\n",
    "db_annoucement['標題'] = headline\n",
    "\n",
    "if len(res_1) == 0:\n",
    "    len = 0\n",
    "else:\n",
    "    len = len(res_1)-1\n",
    "\n",
    "print(\"今日重大公告數量:\",len)\n",
    "display(db_annoucement)   \n"
   ]
  }
 ],
 "metadata": {
  "interpreter": {
   "hash": "37ce237af4e5a0db8ea97b23a8d0147c05ad86b048a5b7873a10a525e5a0d2c2"
  },
  "kernelspec": {
   "display_name": "Python 3.7.4 64-bit ('base': conda)",
   "name": "python3"
  },
  "language_info": {
   "codemirror_mode": {
    "name": "ipython",
    "version": 3
   },
   "file_extension": ".py",
   "mimetype": "text/x-python",
   "name": "python",
   "nbconvert_exporter": "python",
   "pygments_lexer": "ipython3",
   "version": "3.7.4"
  }
 },
 "nbformat": 4,
 "nbformat_minor": 2
}
